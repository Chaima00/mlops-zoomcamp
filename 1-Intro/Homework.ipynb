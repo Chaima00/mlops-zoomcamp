{
 "cells": [
  {
   "cell_type": "code",
   "execution_count": 1,
   "id": "95eff4c3",
   "metadata": {},
   "outputs": [],
   "source": [
    "import pandas as pd"
   ]
  },
  {
   "cell_type": "code",
   "execution_count": 2,
   "id": "0121e070",
   "metadata": {},
   "outputs": [],
   "source": [
    "df1 = pd.read_parquet('https://d37ci6vzurychx.cloudfront.net/trip-data/yellow_tripdata_2020-12.parquet')\n",
    "df2 = pd.read_parquet('https://d37ci6vzurychx.cloudfront.net/trip-data/yellow_tripdata_2021-01.parquet')"
   ]
  },
  {
   "cell_type": "code",
   "execution_count": 3,
   "id": "ae6ca265",
   "metadata": {},
   "outputs": [
    {
     "data": {
      "text/plain": [
       "((1461898, 19), (1369769, 19))"
      ]
     },
     "execution_count": 3,
     "metadata": {},
     "output_type": "execute_result"
    }
   ],
   "source": [
    "df1.shape, df2.shape"
   ]
  },
  {
   "cell_type": "code",
   "execution_count": 4,
   "id": "d5d3bd9f",
   "metadata": {
    "scrolled": false
   },
   "outputs": [
    {
     "data": {
      "text/html": [
       "<div>\n",
       "<style scoped>\n",
       "    .dataframe tbody tr th:only-of-type {\n",
       "        vertical-align: middle;\n",
       "    }\n",
       "\n",
       "    .dataframe tbody tr th {\n",
       "        vertical-align: top;\n",
       "    }\n",
       "\n",
       "    .dataframe thead th {\n",
       "        text-align: right;\n",
       "    }\n",
       "</style>\n",
       "<table border=\"1\" class=\"dataframe\">\n",
       "  <thead>\n",
       "    <tr style=\"text-align: right;\">\n",
       "      <th></th>\n",
       "      <th>VendorID</th>\n",
       "      <th>tpep_pickup_datetime</th>\n",
       "      <th>tpep_dropoff_datetime</th>\n",
       "      <th>passenger_count</th>\n",
       "      <th>trip_distance</th>\n",
       "      <th>RatecodeID</th>\n",
       "      <th>store_and_fwd_flag</th>\n",
       "      <th>PULocationID</th>\n",
       "      <th>DOLocationID</th>\n",
       "      <th>payment_type</th>\n",
       "      <th>fare_amount</th>\n",
       "      <th>extra</th>\n",
       "      <th>mta_tax</th>\n",
       "      <th>tip_amount</th>\n",
       "      <th>tolls_amount</th>\n",
       "      <th>improvement_surcharge</th>\n",
       "      <th>total_amount</th>\n",
       "      <th>congestion_surcharge</th>\n",
       "      <th>airport_fee</th>\n",
       "    </tr>\n",
       "  </thead>\n",
       "  <tbody>\n",
       "    <tr>\n",
       "      <th>0</th>\n",
       "      <td>1</td>\n",
       "      <td>2020-12-01 00:07:13</td>\n",
       "      <td>2020-12-01 00:18:12</td>\n",
       "      <td>1.0</td>\n",
       "      <td>7.60</td>\n",
       "      <td>1.0</td>\n",
       "      <td>N</td>\n",
       "      <td>138</td>\n",
       "      <td>263</td>\n",
       "      <td>1</td>\n",
       "      <td>21.5</td>\n",
       "      <td>3.0</td>\n",
       "      <td>0.5</td>\n",
       "      <td>2.50</td>\n",
       "      <td>6.12</td>\n",
       "      <td>0.3</td>\n",
       "      <td>33.92</td>\n",
       "      <td>2.5</td>\n",
       "      <td>NaN</td>\n",
       "    </tr>\n",
       "    <tr>\n",
       "      <th>1</th>\n",
       "      <td>1</td>\n",
       "      <td>2020-12-01 00:41:19</td>\n",
       "      <td>2020-12-01 00:49:45</td>\n",
       "      <td>1.0</td>\n",
       "      <td>1.60</td>\n",
       "      <td>1.0</td>\n",
       "      <td>N</td>\n",
       "      <td>140</td>\n",
       "      <td>263</td>\n",
       "      <td>1</td>\n",
       "      <td>8.0</td>\n",
       "      <td>3.0</td>\n",
       "      <td>0.5</td>\n",
       "      <td>2.95</td>\n",
       "      <td>0.00</td>\n",
       "      <td>0.3</td>\n",
       "      <td>14.75</td>\n",
       "      <td>2.5</td>\n",
       "      <td>NaN</td>\n",
       "    </tr>\n",
       "    <tr>\n",
       "      <th>2</th>\n",
       "      <td>2</td>\n",
       "      <td>2020-12-01 00:33:40</td>\n",
       "      <td>2020-12-01 01:00:35</td>\n",
       "      <td>1.0</td>\n",
       "      <td>16.74</td>\n",
       "      <td>2.0</td>\n",
       "      <td>N</td>\n",
       "      <td>132</td>\n",
       "      <td>164</td>\n",
       "      <td>1</td>\n",
       "      <td>52.0</td>\n",
       "      <td>0.0</td>\n",
       "      <td>0.5</td>\n",
       "      <td>2.50</td>\n",
       "      <td>6.12</td>\n",
       "      <td>0.3</td>\n",
       "      <td>63.92</td>\n",
       "      <td>2.5</td>\n",
       "      <td>NaN</td>\n",
       "    </tr>\n",
       "    <tr>\n",
       "      <th>3</th>\n",
       "      <td>2</td>\n",
       "      <td>2020-12-01 00:02:15</td>\n",
       "      <td>2020-12-01 00:13:09</td>\n",
       "      <td>1.0</td>\n",
       "      <td>4.16</td>\n",
       "      <td>1.0</td>\n",
       "      <td>N</td>\n",
       "      <td>238</td>\n",
       "      <td>48</td>\n",
       "      <td>1</td>\n",
       "      <td>14.0</td>\n",
       "      <td>0.5</td>\n",
       "      <td>0.5</td>\n",
       "      <td>1.00</td>\n",
       "      <td>0.00</td>\n",
       "      <td>0.3</td>\n",
       "      <td>18.80</td>\n",
       "      <td>2.5</td>\n",
       "      <td>NaN</td>\n",
       "    </tr>\n",
       "    <tr>\n",
       "      <th>4</th>\n",
       "      <td>2</td>\n",
       "      <td>2020-12-01 00:37:42</td>\n",
       "      <td>2020-12-01 00:45:11</td>\n",
       "      <td>1.0</td>\n",
       "      <td>2.22</td>\n",
       "      <td>1.0</td>\n",
       "      <td>N</td>\n",
       "      <td>238</td>\n",
       "      <td>41</td>\n",
       "      <td>2</td>\n",
       "      <td>8.5</td>\n",
       "      <td>0.5</td>\n",
       "      <td>0.5</td>\n",
       "      <td>0.00</td>\n",
       "      <td>0.00</td>\n",
       "      <td>0.3</td>\n",
       "      <td>9.80</td>\n",
       "      <td>0.0</td>\n",
       "      <td>NaN</td>\n",
       "    </tr>\n",
       "  </tbody>\n",
       "</table>\n",
       "</div>"
      ],
      "text/plain": [
       "   VendorID tpep_pickup_datetime tpep_dropoff_datetime  passenger_count  \\\n",
       "0         1  2020-12-01 00:07:13   2020-12-01 00:18:12              1.0   \n",
       "1         1  2020-12-01 00:41:19   2020-12-01 00:49:45              1.0   \n",
       "2         2  2020-12-01 00:33:40   2020-12-01 01:00:35              1.0   \n",
       "3         2  2020-12-01 00:02:15   2020-12-01 00:13:09              1.0   \n",
       "4         2  2020-12-01 00:37:42   2020-12-01 00:45:11              1.0   \n",
       "\n",
       "   trip_distance  RatecodeID store_and_fwd_flag  PULocationID  DOLocationID  \\\n",
       "0           7.60         1.0                  N           138           263   \n",
       "1           1.60         1.0                  N           140           263   \n",
       "2          16.74         2.0                  N           132           164   \n",
       "3           4.16         1.0                  N           238            48   \n",
       "4           2.22         1.0                  N           238            41   \n",
       "\n",
       "   payment_type  fare_amount  extra  mta_tax  tip_amount  tolls_amount  \\\n",
       "0             1         21.5    3.0      0.5        2.50          6.12   \n",
       "1             1          8.0    3.0      0.5        2.95          0.00   \n",
       "2             1         52.0    0.0      0.5        2.50          6.12   \n",
       "3             1         14.0    0.5      0.5        1.00          0.00   \n",
       "4             2          8.5    0.5      0.5        0.00          0.00   \n",
       "\n",
       "   improvement_surcharge  total_amount  congestion_surcharge  airport_fee  \n",
       "0                    0.3         33.92                   2.5          NaN  \n",
       "1                    0.3         14.75                   2.5          NaN  \n",
       "2                    0.3         63.92                   2.5          NaN  \n",
       "3                    0.3         18.80                   2.5          NaN  \n",
       "4                    0.3          9.80                   0.0          NaN  "
      ]
     },
     "execution_count": 4,
     "metadata": {},
     "output_type": "execute_result"
    }
   ],
   "source": [
    "df1.head()"
   ]
  },
  {
   "cell_type": "code",
   "execution_count": 5,
   "id": "d969ce65",
   "metadata": {},
   "outputs": [],
   "source": [
    "df1['duration'] = df1.tpep_dropoff_datetime - df1.tpep_pickup_datetime"
   ]
  },
  {
   "cell_type": "code",
   "execution_count": 6,
   "id": "a81ce2a9",
   "metadata": {},
   "outputs": [
    {
     "data": {
      "text/plain": [
       "Timedelta('0 days 00:10:59')"
      ]
     },
     "execution_count": 6,
     "metadata": {},
     "output_type": "execute_result"
    }
   ],
   "source": [
    "df1['duration'].iloc[0]"
   ]
  },
  {
   "cell_type": "code",
   "execution_count": 7,
   "id": "70a3f9d6",
   "metadata": {},
   "outputs": [
    {
     "data": {
      "text/plain": [
       "0         0 days 00:10:59\n",
       "1         0 days 00:08:26\n",
       "2         0 days 00:26:55\n",
       "3         0 days 00:10:54\n",
       "4         0 days 00:07:29\n",
       "                ...      \n",
       "1461893   0 days 00:16:47\n",
       "1461894   0 days 00:08:56\n",
       "1461895   0 days 00:39:20\n",
       "1461896   0 days 00:12:53\n",
       "1461897   0 days 00:12:03\n",
       "Name: duration, Length: 1461898, dtype: timedelta64[ns]"
      ]
     },
     "execution_count": 7,
     "metadata": {},
     "output_type": "execute_result"
    }
   ],
   "source": [
    "df1['duration']"
   ]
  },
  {
   "cell_type": "code",
   "execution_count": 8,
   "id": "f3a251b2",
   "metadata": {},
   "outputs": [
    {
     "data": {
      "text/plain": [
       "980055    -10 days +11:21:58\n",
       "1169444    -1 days +23:45:56\n",
       "1455862    -1 days +23:59:01\n",
       "1383150    -1 days +23:59:01\n",
       "1409262    -1 days +23:59:03\n",
       "                 ...        \n",
       "500237       0 days 23:59:39\n",
       "500236       0 days 23:59:39\n",
       "795899       0 days 23:59:42\n",
       "1122739      1 days 19:02:52\n",
       "1106896      1 days 21:13:40\n",
       "Name: duration, Length: 1461898, dtype: timedelta64[ns]"
      ]
     },
     "execution_count": 8,
     "metadata": {},
     "output_type": "execute_result"
    }
   ],
   "source": [
    "df1['duration'].sort_values()"
   ]
  },
  {
   "cell_type": "code",
   "execution_count": 9,
   "id": "cee164e2",
   "metadata": {},
   "outputs": [],
   "source": [
    "ts = df1['duration'].iloc[0]"
   ]
  },
  {
   "cell_type": "code",
   "execution_count": 10,
   "id": "72a0d1fa",
   "metadata": {},
   "outputs": [
    {
     "data": {
      "text/plain": [
       "Timedelta('0 days 00:10:59')"
      ]
     },
     "execution_count": 10,
     "metadata": {},
     "output_type": "execute_result"
    }
   ],
   "source": [
    "ts"
   ]
  },
  {
   "cell_type": "code",
   "execution_count": 11,
   "id": "5e827183",
   "metadata": {},
   "outputs": [
    {
     "data": {
      "text/plain": [
       "659.0"
      ]
     },
     "execution_count": 11,
     "metadata": {},
     "output_type": "execute_result"
    }
   ],
   "source": [
    "ts.total_seconds()"
   ]
  },
  {
   "cell_type": "code",
   "execution_count": 12,
   "id": "f3e0ee7c",
   "metadata": {},
   "outputs": [],
   "source": [
    "df1['duration in min'] = df1['duration'].apply(lambda x: x.total_seconds()/60)"
   ]
  },
  {
   "cell_type": "code",
   "execution_count": 13,
   "id": "47faba07",
   "metadata": {},
   "outputs": [
    {
     "data": {
      "text/html": [
       "<div>\n",
       "<style scoped>\n",
       "    .dataframe tbody tr th:only-of-type {\n",
       "        vertical-align: middle;\n",
       "    }\n",
       "\n",
       "    .dataframe tbody tr th {\n",
       "        vertical-align: top;\n",
       "    }\n",
       "\n",
       "    .dataframe thead th {\n",
       "        text-align: right;\n",
       "    }\n",
       "</style>\n",
       "<table border=\"1\" class=\"dataframe\">\n",
       "  <thead>\n",
       "    <tr style=\"text-align: right;\">\n",
       "      <th></th>\n",
       "      <th>VendorID</th>\n",
       "      <th>tpep_pickup_datetime</th>\n",
       "      <th>tpep_dropoff_datetime</th>\n",
       "      <th>passenger_count</th>\n",
       "      <th>trip_distance</th>\n",
       "      <th>RatecodeID</th>\n",
       "      <th>store_and_fwd_flag</th>\n",
       "      <th>PULocationID</th>\n",
       "      <th>DOLocationID</th>\n",
       "      <th>payment_type</th>\n",
       "      <th>...</th>\n",
       "      <th>extra</th>\n",
       "      <th>mta_tax</th>\n",
       "      <th>tip_amount</th>\n",
       "      <th>tolls_amount</th>\n",
       "      <th>improvement_surcharge</th>\n",
       "      <th>total_amount</th>\n",
       "      <th>congestion_surcharge</th>\n",
       "      <th>airport_fee</th>\n",
       "      <th>duration</th>\n",
       "      <th>duration in min</th>\n",
       "    </tr>\n",
       "  </thead>\n",
       "  <tbody>\n",
       "    <tr>\n",
       "      <th>0</th>\n",
       "      <td>1</td>\n",
       "      <td>2020-12-01 00:07:13</td>\n",
       "      <td>2020-12-01 00:18:12</td>\n",
       "      <td>1.0</td>\n",
       "      <td>7.60</td>\n",
       "      <td>1.0</td>\n",
       "      <td>N</td>\n",
       "      <td>138</td>\n",
       "      <td>263</td>\n",
       "      <td>1</td>\n",
       "      <td>...</td>\n",
       "      <td>3.0</td>\n",
       "      <td>0.5</td>\n",
       "      <td>2.50</td>\n",
       "      <td>6.12</td>\n",
       "      <td>0.3</td>\n",
       "      <td>33.92</td>\n",
       "      <td>2.5</td>\n",
       "      <td>NaN</td>\n",
       "      <td>0 days 00:10:59</td>\n",
       "      <td>10.983333</td>\n",
       "    </tr>\n",
       "    <tr>\n",
       "      <th>1</th>\n",
       "      <td>1</td>\n",
       "      <td>2020-12-01 00:41:19</td>\n",
       "      <td>2020-12-01 00:49:45</td>\n",
       "      <td>1.0</td>\n",
       "      <td>1.60</td>\n",
       "      <td>1.0</td>\n",
       "      <td>N</td>\n",
       "      <td>140</td>\n",
       "      <td>263</td>\n",
       "      <td>1</td>\n",
       "      <td>...</td>\n",
       "      <td>3.0</td>\n",
       "      <td>0.5</td>\n",
       "      <td>2.95</td>\n",
       "      <td>0.00</td>\n",
       "      <td>0.3</td>\n",
       "      <td>14.75</td>\n",
       "      <td>2.5</td>\n",
       "      <td>NaN</td>\n",
       "      <td>0 days 00:08:26</td>\n",
       "      <td>8.433333</td>\n",
       "    </tr>\n",
       "    <tr>\n",
       "      <th>2</th>\n",
       "      <td>2</td>\n",
       "      <td>2020-12-01 00:33:40</td>\n",
       "      <td>2020-12-01 01:00:35</td>\n",
       "      <td>1.0</td>\n",
       "      <td>16.74</td>\n",
       "      <td>2.0</td>\n",
       "      <td>N</td>\n",
       "      <td>132</td>\n",
       "      <td>164</td>\n",
       "      <td>1</td>\n",
       "      <td>...</td>\n",
       "      <td>0.0</td>\n",
       "      <td>0.5</td>\n",
       "      <td>2.50</td>\n",
       "      <td>6.12</td>\n",
       "      <td>0.3</td>\n",
       "      <td>63.92</td>\n",
       "      <td>2.5</td>\n",
       "      <td>NaN</td>\n",
       "      <td>0 days 00:26:55</td>\n",
       "      <td>26.916667</td>\n",
       "    </tr>\n",
       "    <tr>\n",
       "      <th>3</th>\n",
       "      <td>2</td>\n",
       "      <td>2020-12-01 00:02:15</td>\n",
       "      <td>2020-12-01 00:13:09</td>\n",
       "      <td>1.0</td>\n",
       "      <td>4.16</td>\n",
       "      <td>1.0</td>\n",
       "      <td>N</td>\n",
       "      <td>238</td>\n",
       "      <td>48</td>\n",
       "      <td>1</td>\n",
       "      <td>...</td>\n",
       "      <td>0.5</td>\n",
       "      <td>0.5</td>\n",
       "      <td>1.00</td>\n",
       "      <td>0.00</td>\n",
       "      <td>0.3</td>\n",
       "      <td>18.80</td>\n",
       "      <td>2.5</td>\n",
       "      <td>NaN</td>\n",
       "      <td>0 days 00:10:54</td>\n",
       "      <td>10.900000</td>\n",
       "    </tr>\n",
       "    <tr>\n",
       "      <th>4</th>\n",
       "      <td>2</td>\n",
       "      <td>2020-12-01 00:37:42</td>\n",
       "      <td>2020-12-01 00:45:11</td>\n",
       "      <td>1.0</td>\n",
       "      <td>2.22</td>\n",
       "      <td>1.0</td>\n",
       "      <td>N</td>\n",
       "      <td>238</td>\n",
       "      <td>41</td>\n",
       "      <td>2</td>\n",
       "      <td>...</td>\n",
       "      <td>0.5</td>\n",
       "      <td>0.5</td>\n",
       "      <td>0.00</td>\n",
       "      <td>0.00</td>\n",
       "      <td>0.3</td>\n",
       "      <td>9.80</td>\n",
       "      <td>0.0</td>\n",
       "      <td>NaN</td>\n",
       "      <td>0 days 00:07:29</td>\n",
       "      <td>7.483333</td>\n",
       "    </tr>\n",
       "  </tbody>\n",
       "</table>\n",
       "<p>5 rows × 21 columns</p>\n",
       "</div>"
      ],
      "text/plain": [
       "   VendorID tpep_pickup_datetime tpep_dropoff_datetime  passenger_count  \\\n",
       "0         1  2020-12-01 00:07:13   2020-12-01 00:18:12              1.0   \n",
       "1         1  2020-12-01 00:41:19   2020-12-01 00:49:45              1.0   \n",
       "2         2  2020-12-01 00:33:40   2020-12-01 01:00:35              1.0   \n",
       "3         2  2020-12-01 00:02:15   2020-12-01 00:13:09              1.0   \n",
       "4         2  2020-12-01 00:37:42   2020-12-01 00:45:11              1.0   \n",
       "\n",
       "   trip_distance  RatecodeID store_and_fwd_flag  PULocationID  DOLocationID  \\\n",
       "0           7.60         1.0                  N           138           263   \n",
       "1           1.60         1.0                  N           140           263   \n",
       "2          16.74         2.0                  N           132           164   \n",
       "3           4.16         1.0                  N           238            48   \n",
       "4           2.22         1.0                  N           238            41   \n",
       "\n",
       "   payment_type  ...  extra  mta_tax  tip_amount  tolls_amount  \\\n",
       "0             1  ...    3.0      0.5        2.50          6.12   \n",
       "1             1  ...    3.0      0.5        2.95          0.00   \n",
       "2             1  ...    0.0      0.5        2.50          6.12   \n",
       "3             1  ...    0.5      0.5        1.00          0.00   \n",
       "4             2  ...    0.5      0.5        0.00          0.00   \n",
       "\n",
       "   improvement_surcharge  total_amount  congestion_surcharge  airport_fee  \\\n",
       "0                    0.3         33.92                   2.5          NaN   \n",
       "1                    0.3         14.75                   2.5          NaN   \n",
       "2                    0.3         63.92                   2.5          NaN   \n",
       "3                    0.3         18.80                   2.5          NaN   \n",
       "4                    0.3          9.80                   0.0          NaN   \n",
       "\n",
       "         duration duration in min  \n",
       "0 0 days 00:10:59       10.983333  \n",
       "1 0 days 00:08:26        8.433333  \n",
       "2 0 days 00:26:55       26.916667  \n",
       "3 0 days 00:10:54       10.900000  \n",
       "4 0 days 00:07:29        7.483333  \n",
       "\n",
       "[5 rows x 21 columns]"
      ]
     },
     "execution_count": 13,
     "metadata": {},
     "output_type": "execute_result"
    }
   ],
   "source": [
    "df1.head()"
   ]
  },
  {
   "cell_type": "code",
   "execution_count": 14,
   "id": "ba47d755",
   "metadata": {},
   "outputs": [],
   "source": [
    "import seaborn as sns\n",
    "import matplotlib.pyplot as plt"
   ]
  },
  {
   "cell_type": "code",
   "execution_count": 15,
   "id": "fdc90fac",
   "metadata": {},
   "outputs": [
    {
     "name": "stderr",
     "output_type": "stream",
     "text": [
      "/home/codespace/anaconda3/lib/python3.9/site-packages/seaborn/distributions.py:2619: FutureWarning: `distplot` is a deprecated function and will be removed in a future version. Please adapt your code to use either `displot` (a figure-level function with similar flexibility) or `histplot` (an axes-level function for histograms).\n",
      "  warnings.warn(msg, FutureWarning)\n"
     ]
    },
    {
     "data": {
      "text/plain": [
       "<AxesSubplot:xlabel='duration in min', ylabel='Density'>"
      ]
     },
     "execution_count": 15,
     "metadata": {},
     "output_type": "execute_result"
    },
    {
     "data": {
      "image/png": "[encoded data removed]",
      "text/plain": [
       "<Figure size 432x288 with 1 Axes>"
      ]
     },
     "metadata": {
      "needs_background": "light"
     },
     "output_type": "display_data"
    }
   ],
   "source": [
    "sns.distplot(df1['duration in min'])"
   ]
  },
  {
   "cell_type": "code",
   "execution_count": 16,
   "id": "3d511d09",
   "metadata": {},
   "outputs": [
    {
     "data": {
      "text/plain": [
       "count    1.461898e+06\n",
       "mean     1.504703e+01\n",
       "std      6.170609e+01\n",
       "min     -1.371803e+04\n",
       "50%      9.766667e+00\n",
       "95%      3.173333e+01\n",
       "98%      4.400000e+01\n",
       "99%      5.715000e+01\n",
       "max      2.713667e+03\n",
       "Name: duration in min, dtype: float64"
      ]
     },
     "execution_count": 16,
     "metadata": {},
     "output_type": "execute_result"
    }
   ],
   "source": [
    "df1['duration in min'].describe(percentiles = [0.95,0.98,0.99])"
   ]
  },
  {
   "cell_type": "code",
   "execution_count": 17,
   "id": "33a20872",
   "metadata": {},
   "outputs": [],
   "source": [
    "df = df1[(df1['duration in min']>=1)& (df1['duration in min']<=60)].drop(columns = ['duration'], axis = 1)"
   ]
  },
  {
   "cell_type": "code",
   "execution_count": 18,
   "id": "609ede98",
   "metadata": {},
   "outputs": [
    {
     "data": {
      "text/html": [
       "<div>\n",
       "<style scoped>\n",
       "    .dataframe tbody tr th:only-of-type {\n",
       "        vertical-align: middle;\n",
       "    }\n",
       "\n",
       "    .dataframe tbody tr th {\n",
       "        vertical-align: top;\n",
       "    }\n",
       "\n",
       "    .dataframe thead th {\n",
       "        text-align: right;\n",
       "    }\n",
       "</style>\n",
       "<table border=\"1\" class=\"dataframe\">\n",
       "  <thead>\n",
       "    <tr style=\"text-align: right;\">\n",
       "      <th></th>\n",
       "      <th>VendorID</th>\n",
       "      <th>tpep_pickup_datetime</th>\n",
       "      <th>tpep_dropoff_datetime</th>\n",
       "      <th>passenger_count</th>\n",
       "      <th>trip_distance</th>\n",
       "      <th>RatecodeID</th>\n",
       "      <th>store_and_fwd_flag</th>\n",
       "      <th>PULocationID</th>\n",
       "      <th>DOLocationID</th>\n",
       "      <th>payment_type</th>\n",
       "      <th>fare_amount</th>\n",
       "      <th>extra</th>\n",
       "      <th>mta_tax</th>\n",
       "      <th>tip_amount</th>\n",
       "      <th>tolls_amount</th>\n",
       "      <th>improvement_surcharge</th>\n",
       "      <th>total_amount</th>\n",
       "      <th>congestion_surcharge</th>\n",
       "      <th>airport_fee</th>\n",
       "      <th>duration in min</th>\n",
       "    </tr>\n",
       "  </thead>\n",
       "  <tbody>\n",
       "    <tr>\n",
       "      <th>0</th>\n",
       "      <td>1</td>\n",
       "      <td>2020-12-01 00:07:13</td>\n",
       "      <td>2020-12-01 00:18:12</td>\n",
       "      <td>1.0</td>\n",
       "      <td>7.60</td>\n",
       "      <td>1.0</td>\n",
       "      <td>N</td>\n",
       "      <td>138</td>\n",
       "      <td>263</td>\n",
       "      <td>1</td>\n",
       "      <td>21.5</td>\n",
       "      <td>3.0</td>\n",
       "      <td>0.5</td>\n",
       "      <td>2.50</td>\n",
       "      <td>6.12</td>\n",
       "      <td>0.3</td>\n",
       "      <td>33.92</td>\n",
       "      <td>2.5</td>\n",
       "      <td>NaN</td>\n",
       "      <td>10.983333</td>\n",
       "    </tr>\n",
       "    <tr>\n",
       "      <th>1</th>\n",
       "      <td>1</td>\n",
       "      <td>2020-12-01 00:41:19</td>\n",
       "      <td>2020-12-01 00:49:45</td>\n",
       "      <td>1.0</td>\n",
       "      <td>1.60</td>\n",
       "      <td>1.0</td>\n",
       "      <td>N</td>\n",
       "      <td>140</td>\n",
       "      <td>263</td>\n",
       "      <td>1</td>\n",
       "      <td>8.0</td>\n",
       "      <td>3.0</td>\n",
       "      <td>0.5</td>\n",
       "      <td>2.95</td>\n",
       "      <td>0.00</td>\n",
       "      <td>0.3</td>\n",
       "      <td>14.75</td>\n",
       "      <td>2.5</td>\n",
       "      <td>NaN</td>\n",
       "      <td>8.433333</td>\n",
       "    </tr>\n",
       "    <tr>\n",
       "      <th>2</th>\n",
       "      <td>2</td>\n",
       "      <td>2020-12-01 00:33:40</td>\n",
       "      <td>2020-12-01 01:00:35</td>\n",
       "      <td>1.0</td>\n",
       "      <td>16.74</td>\n",
       "      <td>2.0</td>\n",
       "      <td>N</td>\n",
       "      <td>132</td>\n",
       "      <td>164</td>\n",
       "      <td>1</td>\n",
       "      <td>52.0</td>\n",
       "      <td>0.0</td>\n",
       "      <td>0.5</td>\n",
       "      <td>2.50</td>\n",
       "      <td>6.12</td>\n",
       "      <td>0.3</td>\n",
       "      <td>63.92</td>\n",
       "      <td>2.5</td>\n",
       "      <td>NaN</td>\n",
       "      <td>26.916667</td>\n",
       "    </tr>\n",
       "    <tr>\n",
       "      <th>3</th>\n",
       "      <td>2</td>\n",
       "      <td>2020-12-01 00:02:15</td>\n",
       "      <td>2020-12-01 00:13:09</td>\n",
       "      <td>1.0</td>\n",
       "      <td>4.16</td>\n",
       "      <td>1.0</td>\n",
       "      <td>N</td>\n",
       "      <td>238</td>\n",
       "      <td>48</td>\n",
       "      <td>1</td>\n",
       "      <td>14.0</td>\n",
       "      <td>0.5</td>\n",
       "      <td>0.5</td>\n",
       "      <td>1.00</td>\n",
       "      <td>0.00</td>\n",
       "      <td>0.3</td>\n",
       "      <td>18.80</td>\n",
       "      <td>2.5</td>\n",
       "      <td>NaN</td>\n",
       "      <td>10.900000</td>\n",
       "    </tr>\n",
       "    <tr>\n",
       "      <th>4</th>\n",
       "      <td>2</td>\n",
       "      <td>2020-12-01 00:37:42</td>\n",
       "      <td>2020-12-01 00:45:11</td>\n",
       "      <td>1.0</td>\n",
       "      <td>2.22</td>\n",
       "      <td>1.0</td>\n",
       "      <td>N</td>\n",
       "      <td>238</td>\n",
       "      <td>41</td>\n",
       "      <td>2</td>\n",
       "      <td>8.5</td>\n",
       "      <td>0.5</td>\n",
       "      <td>0.5</td>\n",
       "      <td>0.00</td>\n",
       "      <td>0.00</td>\n",
       "      <td>0.3</td>\n",
       "      <td>9.80</td>\n",
       "      <td>0.0</td>\n",
       "      <td>NaN</td>\n",
       "      <td>7.483333</td>\n",
       "    </tr>\n",
       "  </tbody>\n",
       "</table>\n",
       "</div>"
      ],
      "text/plain": [
       "   VendorID tpep_pickup_datetime tpep_dropoff_datetime  passenger_count  \\\n",
       "0         1  2020-12-01 00:07:13   2020-12-01 00:18:12              1.0   \n",
       "1         1  2020-12-01 00:41:19   2020-12-01 00:49:45              1.0   \n",
       "2         2  2020-12-01 00:33:40   2020-12-01 01:00:35              1.0   \n",
       "3         2  2020-12-01 00:02:15   2020-12-01 00:13:09              1.0   \n",
       "4         2  2020-12-01 00:37:42   2020-12-01 00:45:11              1.0   \n",
       "\n",
       "   trip_distance  RatecodeID store_and_fwd_flag  PULocationID  DOLocationID  \\\n",
       "0           7.60         1.0                  N           138           263   \n",
       "1           1.60         1.0                  N           140           263   \n",
       "2          16.74         2.0                  N           132           164   \n",
       "3           4.16         1.0                  N           238            48   \n",
       "4           2.22         1.0                  N           238            41   \n",
       "\n",
       "   payment_type  fare_amount  extra  mta_tax  tip_amount  tolls_amount  \\\n",
       "0             1         21.5    3.0      0.5        2.50          6.12   \n",
       "1             1          8.0    3.0      0.5        2.95          0.00   \n",
       "2             1         52.0    0.0      0.5        2.50          6.12   \n",
       "3             1         14.0    0.5      0.5        1.00          0.00   \n",
       "4             2          8.5    0.5      0.5        0.00          0.00   \n",
       "\n",
       "   improvement_surcharge  total_amount  congestion_surcharge  airport_fee  \\\n",
       "0                    0.3         33.92                   2.5          NaN   \n",
       "1                    0.3         14.75                   2.5          NaN   \n",
       "2                    0.3         63.92                   2.5          NaN   \n",
       "3                    0.3         18.80                   2.5          NaN   \n",
       "4                    0.3          9.80                   0.0          NaN   \n",
       "\n",
       "   duration in min  \n",
       "0        10.983333  \n",
       "1         8.433333  \n",
       "2        26.916667  \n",
       "3        10.900000  \n",
       "4         7.483333  "
      ]
     },
     "execution_count": 18,
     "metadata": {},
     "output_type": "execute_result"
    }
   ],
   "source": [
    "df.head()"
   ]
  },
  {
   "cell_type": "code",
   "execution_count": 19,
   "id": "6a8e0837",
   "metadata": {},
   "outputs": [
    {
     "name": "stderr",
     "output_type": "stream",
     "text": [
      "/home/codespace/anaconda3/lib/python3.9/site-packages/seaborn/distributions.py:2619: FutureWarning: `distplot` is a deprecated function and will be removed in a future version. Please adapt your code to use either `displot` (a figure-level function with similar flexibility) or `histplot` (an axes-level function for histograms).\n",
      "  warnings.warn(msg, FutureWarning)\n"
     ]
    },
    {
     "data": {
      "text/plain": [
       "<AxesSubplot:xlabel='duration in min', ylabel='Density'>"
      ]
     },
     "execution_count": 19,
     "metadata": {},
     "output_type": "execute_result"
    },
    {
     "data": {
      "image/png": "[encoded data removed]",
      "text/plain": [
       "<Figure size 432x288 with 1 Axes>"
      ]
     },
     "metadata": {
      "needs_background": "light"
     },
     "output_type": "display_data"
    }
   ],
   "source": [
    "sns.distplot(df['duration in min'])"
   ]
  },
  {
   "cell_type": "code",
   "execution_count": 21,
   "id": "a325969d",
   "metadata": {},
   "outputs": [],
   "source": [
    "df[\"PU_DO\"] = df['PULocationID'].astype(str) +'_'+df['DOLocationID'].astype(str)"
   ]
  },
  {
   "cell_type": "code",
   "execution_count": 22,
   "id": "3f114d25",
   "metadata": {},
   "outputs": [],
   "source": [
    "cat = ['PU_DO']\n",
    "num = ['trip_distance']"
   ]
  },
  {
   "cell_type": "code",
   "execution_count": 23,
   "id": "8493bb22",
   "metadata": {},
   "outputs": [
    {
     "data": {
      "text/plain": [
       "PU_DO    object\n",
       "dtype: object"
      ]
     },
     "execution_count": 23,
     "metadata": {},
     "output_type": "execute_result"
    }
   ],
   "source": [
    "df[cat].dtypes"
   ]
  },
  {
   "cell_type": "code",
   "execution_count": 24,
   "id": "b2e784de",
   "metadata": {},
   "outputs": [],
   "source": [
    "df[cat] = df[cat].astype(str)"
   ]
  },
  {
   "cell_type": "code",
   "execution_count": 25,
   "id": "c8532ae2",
   "metadata": {},
   "outputs": [],
   "source": [
    "from sklearn.feature_extraction import DictVectorizer"
   ]
  },
  {
   "cell_type": "code",
   "execution_count": 26,
   "id": "c435c1cd",
   "metadata": {},
   "outputs": [],
   "source": [
    "dv = DictVectorizer()"
   ]
  },
  {
   "cell_type": "code",
   "execution_count": 27,
   "id": "a9cae6e7",
   "metadata": {},
   "outputs": [
    {
     "data": {
      "text/html": [
       "<div>\n",
       "<style scoped>\n",
       "    .dataframe tbody tr th:only-of-type {\n",
       "        vertical-align: middle;\n",
       "    }\n",
       "\n",
       "    .dataframe tbody tr th {\n",
       "        vertical-align: top;\n",
       "    }\n",
       "\n",
       "    .dataframe thead th {\n",
       "        text-align: right;\n",
       "    }\n",
       "</style>\n",
       "<table border=\"1\" class=\"dataframe\">\n",
       "  <thead>\n",
       "    <tr style=\"text-align: right;\">\n",
       "      <th></th>\n",
       "      <th>PU_DO</th>\n",
       "      <th>trip_distance</th>\n",
       "    </tr>\n",
       "  </thead>\n",
       "  <tbody>\n",
       "    <tr>\n",
       "      <th>0</th>\n",
       "      <td>138_263</td>\n",
       "      <td>7.60</td>\n",
       "    </tr>\n",
       "    <tr>\n",
       "      <th>1</th>\n",
       "      <td>140_263</td>\n",
       "      <td>1.60</td>\n",
       "    </tr>\n",
       "    <tr>\n",
       "      <th>2</th>\n",
       "      <td>132_164</td>\n",
       "      <td>16.74</td>\n",
       "    </tr>\n",
       "    <tr>\n",
       "      <th>3</th>\n",
       "      <td>238_48</td>\n",
       "      <td>4.16</td>\n",
       "    </tr>\n",
       "    <tr>\n",
       "      <th>4</th>\n",
       "      <td>238_41</td>\n",
       "      <td>2.22</td>\n",
       "    </tr>\n",
       "    <tr>\n",
       "      <th>...</th>\n",
       "      <td>...</td>\n",
       "      <td>...</td>\n",
       "    </tr>\n",
       "    <tr>\n",
       "      <th>1461893</th>\n",
       "      <td>143_20</td>\n",
       "      <td>9.22</td>\n",
       "    </tr>\n",
       "    <tr>\n",
       "      <th>1461894</th>\n",
       "      <td>4_262</td>\n",
       "      <td>4.79</td>\n",
       "    </tr>\n",
       "    <tr>\n",
       "      <th>1461895</th>\n",
       "      <td>210_78</td>\n",
       "      <td>28.00</td>\n",
       "    </tr>\n",
       "    <tr>\n",
       "      <th>1461896</th>\n",
       "      <td>148_129</td>\n",
       "      <td>7.08</td>\n",
       "    </tr>\n",
       "    <tr>\n",
       "      <th>1461897</th>\n",
       "      <td>18_235</td>\n",
       "      <td>2.35</td>\n",
       "    </tr>\n",
       "  </tbody>\n",
       "</table>\n",
       "<p>1431997 rows × 2 columns</p>\n",
       "</div>"
      ],
      "text/plain": [
       "           PU_DO  trip_distance\n",
       "0        138_263           7.60\n",
       "1        140_263           1.60\n",
       "2        132_164          16.74\n",
       "3         238_48           4.16\n",
       "4         238_41           2.22\n",
       "...          ...            ...\n",
       "1461893   143_20           9.22\n",
       "1461894    4_262           4.79\n",
       "1461895   210_78          28.00\n",
       "1461896  148_129           7.08\n",
       "1461897   18_235           2.35\n",
       "\n",
       "[1431997 rows x 2 columns]"
      ]
     },
     "execution_count": 27,
     "metadata": {},
     "output_type": "execute_result"
    }
   ],
   "source": [
    "df[cat+num]"
   ]
  },
  {
   "cell_type": "code",
   "execution_count": 28,
   "id": "840f3d9d",
   "metadata": {},
   "outputs": [
    {
     "data": {
      "text/plain": [
       "PU_DO    object\n",
       "dtype: object"
      ]
     },
     "execution_count": 28,
     "metadata": {},
     "output_type": "execute_result"
    }
   ],
   "source": [
    "df[cat].dtypes"
   ]
  },
  {
   "cell_type": "code",
   "execution_count": null,
   "id": "1cbd9918",
   "metadata": {},
   "outputs": [],
   "source": []
  },
  {
   "cell_type": "code",
   "execution_count": 29,
   "id": "05c0fcd7",
   "metadata": {},
   "outputs": [],
   "source": [
    "df_train = df[cat+num].to_dict(orient = 'records')"
   ]
  },
  {
   "cell_type": "code",
   "execution_count": 30,
   "id": "83151152",
   "metadata": {},
   "outputs": [
    {
     "data": {
      "text/plain": [
       "[{'PU_DO': '138_263', 'trip_distance': 7.6},\n",
       " {'PU_DO': '140_263', 'trip_distance': 1.6},\n",
       " {'PU_DO': '132_164', 'trip_distance': 16.74},\n",
       " {'PU_DO': '238_48', 'trip_distance': 4.16},\n",
       " {'PU_DO': '238_41', 'trip_distance': 2.22},\n",
       " {'PU_DO': '138_137', 'trip_distance': 8.4},\n",
       " {'PU_DO': '132_191', 'trip_distance': 6.44},\n",
       " {'PU_DO': '234_137', 'trip_distance': 0.99},\n",
       " {'PU_DO': '261_7', 'trip_distance': 11.81},\n",
       " {'PU_DO': '237_107', 'trip_distance': 2.7}]"
      ]
     },
     "execution_count": 30,
     "metadata": {},
     "output_type": "execute_result"
    }
   ],
   "source": [
    "df_train[:10]"
   ]
  },
  {
   "cell_type": "code",
   "execution_count": 31,
   "id": "85f286af",
   "metadata": {},
   "outputs": [],
   "source": [
    "X_train = dv.fit_transform(df_train)"
   ]
  },
  {
   "cell_type": "code",
   "execution_count": 32,
   "id": "400f5618",
   "metadata": {},
   "outputs": [
    {
     "data": {
      "text/plain": [
       "<1431997x27059 sparse matrix of type '<class 'numpy.float64'>'\n",
       "\twith 2863994 stored elements in Compressed Sparse Row format>"
      ]
     },
     "execution_count": 32,
     "metadata": {},
     "output_type": "execute_result"
    }
   ],
   "source": [
    "X_train"
   ]
  },
  {
   "cell_type": "code",
   "execution_count": 33,
   "id": "b849b141",
   "metadata": {},
   "outputs": [],
   "source": [
    "y_train = df['duration in min'].values"
   ]
  },
  {
   "cell_type": "code",
   "execution_count": 34,
   "id": "69032446",
   "metadata": {},
   "outputs": [
    {
     "data": {
      "text/plain": [
       "array([10.98333333,  8.43333333, 26.91666667, ..., 39.33333333,\n",
       "       12.88333333, 12.05      ])"
      ]
     },
     "execution_count": 34,
     "metadata": {},
     "output_type": "execute_result"
    }
   ],
   "source": [
    "y_train"
   ]
  },
  {
   "cell_type": "code",
   "execution_count": 35,
   "id": "26e2b57f",
   "metadata": {},
   "outputs": [
    {
     "name": "stderr",
     "output_type": "stream",
     "text": [
      "/home/codespace/anaconda3/lib/python3.9/site-packages/seaborn/distributions.py:2619: FutureWarning: `distplot` is a deprecated function and will be removed in a future version. Please adapt your code to use either `displot` (a figure-level function with similar flexibility) or `histplot` (an axes-level function for histograms).\n",
      "  warnings.warn(msg, FutureWarning)\n",
      "/home/codespace/anaconda3/lib/python3.9/site-packages/seaborn/distributions.py:2619: FutureWarning: `distplot` is a deprecated function and will be removed in a future version. Please adapt your code to use either `displot` (a figure-level function with similar flexibility) or `histplot` (an axes-level function for histograms).\n",
      "  warnings.warn(msg, FutureWarning)\n"
     ]
    },
    {
     "data": {
      "text/plain": [
       "<matplotlib.legend.Legend at 0x7dbb11370370>"
      ]
     },
     "execution_count": 35,
     "metadata": {},
     "output_type": "execute_result"
    },
    {
     "data": {
      "image/png": "[encoded data removed]",
      "text/plain": [
       "<Figure size 432x288 with 1 Axes>"
      ]
     },
     "metadata": {
      "needs_background": "light"
     },
     "output_type": "display_data"
    }
   ],
   "source": [
    "from sklearn.linear_model import LinearRegression\n",
    "\n",
    "lr = LinearRegression()\n",
    "\n",
    "lr.fit(X_train, y_train)\n",
    "\n",
    "y_pred = lr.predict(X_train)\n",
    "\n",
    "sns.distplot(y_train, label = 'actual')\n",
    "sns.distplot(y_pred, label = ' predictions')\n",
    "plt.legend()"
   ]
  },
  {
   "cell_type": "code",
   "execution_count": 36,
   "id": "32f1f492",
   "metadata": {},
   "outputs": [],
   "source": [
    "from sklearn.metrics import mean_squared_error"
   ]
  },
  {
   "cell_type": "code",
   "execution_count": 37,
   "id": "2d6fb738",
   "metadata": {},
   "outputs": [
    {
     "data": {
      "text/plain": [
       "4.594331018241661"
      ]
     },
     "execution_count": 37,
     "metadata": {},
     "output_type": "execute_result"
    }
   ],
   "source": [
    "mean_squared_error(y_train, y_pred, squared= False)"
   ]
  },
  {
   "cell_type": "code",
   "execution_count": 38,
   "id": "4d2ebf84",
   "metadata": {},
   "outputs": [],
   "source": [
    "def preprocess(filename):\n",
    "    df = pd.read_parquet(filename)\n",
    "    df['duration'] = df.tpep_dropoff_datetime - df.tpep_pickup_datetime\n",
    "    df['duration in min'] = df['duration'].apply(lambda x: x.total_seconds()/60)\n",
    "    df = df[(df['duration in min']>=1)& (df['duration in min']<=60)].drop(columns = ['duration'], axis = 1)\n",
    "    df[\"PU_DO\"] = df['PULocationID'].astype(str) +'_' +df['DOLocationID'].astype(str)\n",
    "    df['PU_DO'] = df['PU_DO'].astype(str)\n",
    "    \n",
    "    return df"
   ]
  },
  {
   "cell_type": "code",
   "execution_count": 39,
   "id": "0047b5e4",
   "metadata": {},
   "outputs": [],
   "source": [
    "df_train = preprocess('https://d37ci6vzurychx.cloudfront.net/trip-data/yellow_tripdata_2020-12.parquet')"
   ]
  },
  {
   "cell_type": "code",
   "execution_count": 40,
   "id": "3ea97175",
   "metadata": {},
   "outputs": [],
   "source": [
    "df_val = preprocess('https://d37ci6vzurychx.cloudfront.net/trip-data/yellow_tripdata_2021-01.parquet')"
   ]
  },
  {
   "cell_type": "code",
   "execution_count": 41,
   "id": "5002bf32",
   "metadata": {},
   "outputs": [
    {
     "data": {
      "text/plain": [
       "((1431997, 21), (1343254, 21))"
      ]
     },
     "execution_count": 41,
     "metadata": {},
     "output_type": "execute_result"
    }
   ],
   "source": [
    "df_train.shape, df_val.shape"
   ]
  },
  {
   "cell_type": "code",
   "execution_count": 42,
   "id": "9768f0bd",
   "metadata": {
    "scrolled": true
   },
   "outputs": [
    {
     "name": "stderr",
     "output_type": "stream",
     "text": [
      "/home/codespace/anaconda3/lib/python3.9/site-packages/seaborn/distributions.py:2619: FutureWarning: `distplot` is a deprecated function and will be removed in a future version. Please adapt your code to use either `displot` (a figure-level function with similar flexibility) or `histplot` (an axes-level function for histograms).\n",
      "  warnings.warn(msg, FutureWarning)\n",
      "/home/codespace/anaconda3/lib/python3.9/site-packages/seaborn/distributions.py:2619: FutureWarning: `distplot` is a deprecated function and will be removed in a future version. Please adapt your code to use either `displot` (a figure-level function with similar flexibility) or `histplot` (an axes-level function for histograms).\n",
      "  warnings.warn(msg, FutureWarning)\n"
     ]
    },
    {
     "data": {
      "text/plain": [
       "<matplotlib.legend.Legend at 0x7dbb551da7c0>"
      ]
     },
     "execution_count": 42,
     "metadata": {},
     "output_type": "execute_result"
    },
    {
     "data": {
      "image/png": "[encoded data removed]",
      "text/plain": [
       "<Figure size 432x288 with 1 Axes>"
      ]
     },
     "metadata": {
      "needs_background": "light"
     },
     "output_type": "display_data"
    }
   ],
   "source": [
    "train_dict = df_train[cat+num].to_dict(orient = 'records')\n",
    "X_train = dv.fit_transform(train_dict)\n",
    "y_train = df_train['duration in min'].values\n",
    "val_dict = df_val[cat+num].to_dict(orient = 'records')\n",
    "X_val = dv.transform(val_dict)\n",
    "y_val = df_val['duration in min'].values\n",
    "\n",
    "lr = LinearRegression()\n",
    "\n",
    "lr.fit(X_train, y_train)\n",
    "\n",
    "y_pred = lr.predict(X_val)\n",
    "\n",
    "sns.distplot(y_val, label = 'actual')\n",
    "sns.distplot(y_pred, label = ' predictions')\n",
    "plt.legend()"
   ]
  },
  {
   "cell_type": "code",
   "execution_count": 43,
   "id": "c0c0a408",
   "metadata": {},
   "outputs": [
    {
     "data": {
      "text/plain": [
       "4.486412549838758"
      ]
     },
     "execution_count": 43,
     "metadata": {},
     "output_type": "execute_result"
    }
   ],
   "source": [
    "mean_squared_error(y_val, y_pred, squared= False)"
   ]
  },
  {
   "cell_type": "code",
   "execution_count": 44,
   "id": "3cbfcd01",
   "metadata": {},
   "outputs": [],
   "source": [
    "import pickle\n",
    "\n",
    "with open('models/lin_reg.bin', 'wb') as model_out:\n",
    "    pickle.dump((dv, lr), model_out)"
   ]
  },
  {
   "cell_type": "code",
   "execution_count": null,
   "id": "387a3d72",
   "metadata": {},
   "outputs": [],
   "source": []
  }
 ],
 "metadata": {
  "kernelspec": {
   "display_name": "Python 3 (ipykernel)",
   "language": "python",
   "name": "python3"
  },
  "language_info": {
   "codemirror_mode": {
    "name": "ipython",
    "version": 3
   },
   "file_extension": ".py",
   "mimetype": "text/x-python",
   "name": "python",
   "nbconvert_exporter": "python",
   "pygments_lexer": "ipython3",
   "version": "3.9.12"
  }
 },
 "nbformat": 4,
 "nbformat_minor": 5
}
