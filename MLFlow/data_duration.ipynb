{
 "cells": [
  {
   "cell_type": "code",
   "execution_count": 1,
   "id": "2637d0e6",
   "metadata": {},
   "outputs": [
    {
     "name": "stdout",
     "output_type": "stream",
     "text": [
      "Python 3.12.11\n"
     ]
    }
   ],
   "source": [
    "!python -V"
   ]
  },
  {
   "cell_type": "code",
   "execution_count": 2,
   "id": "8b62b317",
   "metadata": {},
   "outputs": [],
   "source": [
    "import pandas as pd\n",
    "import pickle\n",
    "import mlflow\n",
    "from sklearn.feature_extraction import DictVectorizer\n",
    "from sklearn.metrics import root_mean_squared_error"
   ]
  },
  {
   "cell_type": "code",
   "execution_count": null,
   "id": "8e74a581",
   "metadata": {},
   "outputs": [
    {
     "name": "stderr",
     "output_type": "stream",
     "text": [
      "2025/07/17 10:34:58 INFO mlflow.store.db.utils: Creating initial MLflow database tables...\n",
      "2025/07/17 10:34:58 INFO mlflow.store.db.utils: Updating database tables\n",
      "INFO  [alembic.runtime.migration] Context impl SQLiteImpl.\n",
      "INFO  [alembic.runtime.migration] Will assume non-transactional DDL.\n",
      "INFO  [alembic.runtime.migration] Context impl SQLiteImpl.\n",
      "INFO  [alembic.runtime.migration] Will assume non-transactional DDL.\n",
      "2025/07/17 10:34:58 INFO mlflow.tracking.fluent: Experiment with name 'my-nyc-taxi-experiment' does not exist. Creating a new experiment.\n"
     ]
    },
    {
     "data": {
      "text/plain": [
       "<Experiment: artifact_location='/workspaces/mlops-zoomcamp/MLFlow/mlruns/9', creation_time=1752748498964, experiment_id='9', last_update_time=1752748498964, lifecycle_stage='active', name='my-nyc-taxi-experiment', tags={}>"
      ]
     },
     "execution_count": 5,
     "metadata": {},
     "output_type": "execute_result"
    },
    {
     "name": "stderr",
     "output_type": "stream",
     "text": [
      "Bad pipe message: %s [b'\"Not)A;Brand\";v=\"8\", \"Chromium\";v=\"138\", \"Google Chrome\";']\n",
      "Bad pipe message: %s [b'\"138\"\\r\\nsec-ch-ua-mobile: ?0\\r\\nsec-ch-ua-platform: \"Windows\"\\r\\nUpgrade-Insecure-Requests: 1\\r\\nUser-Agent: Mozilla/5.0 (Wi', b'ows NT 10.0; Win64; x64) AppleWebKit/537.36 (KHTML, like Gecko) Chrome/138.0.0.0 Safari/537.36\\r\\nAccept: text/']\n",
      "Bad pipe message: %s [b'ml,application/xhtml+xml,application/xml;q=0.9,image/avif,image/webp,image/apng,*/*;q=0.8,application/s']\n",
      "Bad pipe message: %s [b'ned-exchange;v=b3;q=0.7\\r\\nSec-Fetch-Site: none\\r\\nSec-Fetch-Mode: navigate\\r\\nSec-Fetch-User: ?1\\r\\nSec-Fetch-D', b't: document\\r\\nAccept-Encoding: gzip, deflate, br, zstd\\r\\nAccept-Language: ar-MA,ar-AE;q=0.9,ar;q=0.8,f', b'MA;q=0.7,fr;q=0.6,en-US;q=0.5,en;q=0.4\\r\\nCookie: username-127-0-0-1-8889=\"2|1:0|10:1751555102|23:username-127-0-0-', b'8889|44:ODA3NzI2MmQxM2ZkNDYyMzg0MWJjMjg3MTZkNzYx', b'M=|271d9a77b88fe318d596adc3e1f3e8b0289514f10a4e01c19f326803e2154b6a\"; _xsrf=', b'84abd5f4|ea459fe91f4ad28391c1775406bdb27c|1751617']\n",
      "Bad pipe message: %s [b'7; ajs_anonymous_id=777b8882-a08b-4d2c-b061-d3e8', b'02efbb; username-127-0-0-1-8888=\"2|1:0|10:1752497667|23:username-127-0-0-1-8888|200:eyJ1c2VybmFtZSI6I']\n",
      "Bad pipe message: %s [b'mNDNiMWNkNWI4N2E0YzU3YTM3OGE2YjhhNmI0NjEyYSIsICJuYW1lIjogIkFub255b']\n",
      "Bad pipe message: %s [b'ol: max-age=0\\r\\nsec-ch-ua: \"Not)A;Brand\";v=\"8\", \"Chromium\";v=\"138\", \"Google Chrome\";v=\"138\"\\r\\nsec-ch-ua-mobile: ?0\\r\\ns']\n",
      "Bad pipe message: %s [b'-ch-ua-platform: \"Windows\"\\r\\nUpgrade-Insecure-Requests: 1\\r\\nUser-Agent: Mozilla/5.0 (Windows NT 10.0; ', b'n64; x64) AppleWebKit/537.36 (KHTML, like Gecko) Chrome/138.0.0.0 Safari/537.36\\r\\nAccep', b' text/html,application/xhtml+xml,application/xml;q=0.9,image/avif,image/webp,image/apng,*/*;q=0.8,application/signe']\n",
      "Bad pipe message: %s [b'exchange;v=b3;q=0.7\\r\\nSec-Fetch-Site: none\\r\\nSec-Fetch-Mode: navigate\\r\\nSec-Fetch-User: ?1\\r\\nSec-Fetch-', b'st: document\\r\\nAccept-Encoding: gzip, deflate, br, zstd\\r\\nAccept-Lang', b'ge: ar-MA,ar-AE;q=0.9,ar;q=0.8,fr-MA;q=0.7,fr;q=0.6,en-US;q=0.5,en;q=0.4\\r\\nCookie: username-127-0-0-1-8889=\"2|1:0|10:', b'51555102|23:username-127-0-0-1-8889|44:ODA3NzI2M', b'xM2ZkNDYyMzg0MWJjMjg3MTZkNzYxMWM=|271d9a77b88fe318d596adc3e1f3e8b0289514f10a4e01c19f326803e2154b6a\"; _xsrf=2', b'4abd5f4|ea459fe91f4ad28391c1775406bdb27c|1751617197; ajs_anonymous_id=777b8882-a08b-4d2c-b061-d3e8f802efbb; username-127-0-']\n",
      "Bad pipe message: %s [b'1-8888=\"2|1:0|10:1752497667|23:username-127-0-0', b'-8888|200:eyJ1c2VybmFtZSI6ICJmNDNiMWNkNWI4N2', b'YzU3YTM3OGE2YjhhNmI0NjEyYSIsICJuYW1lIjogIkFub255bW91cyBPcnRob3NpZSIs']\n",
      "Bad pipe message: %s [b'ol: max-age=0\\r\\nsec-ch-ua: \"Not)A;Brand\";v=\"8\", \"Chromium\";v=\"138\", \"Google Chrome\";v=\"138\"\\r\\nsec-ch-ua-mobile: ?0\\r\\ns']\n",
      "Bad pipe message: %s [b'-ch-ua-platform: \"Windows\"\\r\\nUpgrade-Insecure-Requests: 1\\r\\nUser-Agent: Mozilla/5.0 (Windows NT 10.0; ', b'n64; x64) AppleWebKit/537.36 (KHTML, like Gecko) Chrome/138.0.0.0 Safari/537.36\\r\\nAccep', b' text/html,application/xhtml+xml,application/xml;q=0.9,image/avif,image/webp,image/apng,*/*;q=0.8,application/signe']\n",
      "Bad pipe message: %s [b'exchange;v=b3;q=0.7\\r\\nSec-Fetch-Site: none\\r\\nSec-Fetch-Mode: navigate\\r\\nSec-Fetch-User: ?1\\r\\nSec-Fetch-', b'st: document\\r\\nAccept-Encoding: gzip, deflate, br, zstd\\r\\nAccept-Lang', b'ge: ar-MA,ar-AE;q=0.9,ar;q=0.8,fr-MA;q=0.7,fr;q=0.6,en-US;q=0.5,en;q=0.4\\r\\nCookie: username-127-0-0-1-8889=\"2|1:0|10:', b'51555102|23:username-127-0-0-1-8889|44:ODA3NzI2M', b'xM2ZkNDYyMzg0MWJjMjg3MTZkNzYxMWM=|271d9a77b88fe318d596adc3e1f3e8b0289514f10a4e01c19f326803e2154b6a\"; _xsrf=2', b'4abd5f4|ea459fe91f4ad28391c1775406bdb27c|1751617197; ajs_anonymous_id=777b8882-a08b-4d2c-b061-d3e8f802efbb; username-127-0-']\n",
      "Bad pipe message: %s [b'1-8888=\"2|1:0|10:1752497667|23:username-127-0-0', b'-8888|200:eyJ1c2VybmFtZSI6ICJmNDNiMWNkNWI4N2', b'YzU3YTM3OGE2YjhhNmI0NjEyYSIsICJuYW1lIjogIkFub255bW91cyBPcnRob3NpZSIs']\n",
      "Bad pipe message: %s [b'\"Not)A;Brand\";v=\"8\", \"Chromium\";v=\"138\", \"Google Chrome\";']\n",
      "Bad pipe message: %s [b'\"138\"\\r\\nsec-ch-ua-mobile: ?0\\r\\nsec-ch-ua-platform: \"Windows\"\\r\\nUpgrade-Insecure-Requests: 1\\r\\nUser-Agent: Mozilla/5.0 (Wi', b'ows NT 10.0; Win64; x64) AppleWebKit/537.36 (KHTML, like Gecko) Chrome/138.0.0.0 Safari/537.36\\r\\nAccept: text/']\n",
      "Bad pipe message: %s [b'ml,application/xhtml+xml,application/xml;q=0.9,image/avif,image/webp,image/apng,*/*;q=0.8,application/s']\n",
      "Bad pipe message: %s [b'ned-exchange;v=b3;q=0.7\\r\\nSec-Fetch-Site: none\\r\\nSec-Fetch-Mode: navigate\\r\\nSec-Fetch-User: ?1\\r\\nSec-Fetch-D', b't: document\\r\\nAccept-Encoding: gzip, deflate, br, zstd\\r\\nAccept-Language: ar-MA,ar-AE;q=0.9,ar;q=0.8,f', b'MA;q=0.7,fr;q=0.6,en-US;q=0.5,en;q=0.4\\r\\nCookie: username-127-0-0-1-8889=\"2|1:0|10:1751555102|23:username-127-0-0-', b'8889|44:ODA3NzI2MmQxM2ZkNDYyMzg0MWJjMjg3MTZkNzYx', b'M=|271d9a77b88fe318d596adc3e1f3e8b0289514f10a4e01c19f326803e2154b6a\"; _xsrf=', b'84abd5f4|ea459fe91f4ad28391c1775406bdb27c|1751617']\n",
      "Bad pipe message: %s [b'7; ajs_anonymous_id=777b8882-a08b-4d2c-b061-d3e8', b'02efbb; username-127-0-0-1-8888=\"2|1:0|10:1752497667|23:username-127-0-0-1-8888|200:eyJ1c2VybmFtZSI6I']\n",
      "Bad pipe message: %s [b'mNDNiMWNkNWI4N2E0YzU3YTM3OGE2YjhhNmI0NjEyYSIsICJuYW1lIjogIkFub255b']\n",
      "Bad pipe message: %s [b'ol: max-age=0\\r\\nsec-ch-ua: \"Not)A;Brand\";v=\"8\", \"Chromium\";v=\"138\", \"Google Chrome\";v=\"138\"\\r\\nsec-ch-ua-mobile: ?0\\r\\ns']\n",
      "Bad pipe message: %s [b'-ch-ua-platform: \"Windows\"\\r\\nUpgrade-Insecure-Requests: 1\\r\\nUser-Agent: Mozilla/5.0 (Windows NT 10.0; ', b'n64; x64) AppleWebKit/537.36 (KHTML, like Gecko) Chrome/138.0.0.0 Safari/537.36\\r\\nAccep', b' text/html,application/xhtml+xml,application/xml;q=0.9,image/avif,image/webp,image/apng,*/*;q=0.8,application/signe']\n",
      "Bad pipe message: %s [b'exchange;v=b3;q=0.7\\r\\nSec-Fetch-Site: none\\r\\nSec-Fetch-Mode: navigate\\r\\nSec-Fetch-User: ?1\\r\\nSec-Fetch-', b'st: document\\r\\nAccept-Encoding: gzip, deflate, br, zstd\\r\\nAccept-Lang', b'ge: ar-MA,ar-AE;q=0.9,ar;q=0.8,fr-MA;q=0.7,fr;q=0.6,en-US;q=0.5,en;q=0.4\\r\\nCookie: username-127-0-0-1-8889=\"2|1:0|10:', b'51555102|23:username-127-0-0-1-8889|44:ODA3NzI2M', b'xM2ZkNDYyMzg0MWJjMjg3MTZkNzYxMWM=|271d9a77b88fe318d596adc3e1f3e8b0289514f10a4e01c19f326803e2154b6a\"; _xsrf=2', b'4abd5f4|ea459fe91f4ad28391c1775406bdb27c|1751617197; ajs_anonymous_id=777b8882-a08b-4d2c-b061-d3e8f802efbb; username-127-0-']\n",
      "Bad pipe message: %s [b'1-8888=\"2|1:0|10:1752497667|23:username-127-0-0', b'-8888|200:eyJ1c2VybmFtZSI6ICJmNDNiMWNkNWI4N2', b'YzU3YTM3OGE2YjhhNmI0NjEyYSIsICJuYW1lIjogIkFub255bW91cyBPcnRob3NpZSIs']\n",
      "Bad pipe message: %s [b'\"Not)A;Brand\";v=\"8\", \"Chromium\";v=\"138\", \"Google Chrome\";']\n",
      "Bad pipe message: %s [b'\"138\"\\r\\nsec-ch-ua-mobile: ?0\\r\\nsec-ch-ua-platform: \"Windows\"\\r\\nUpgrade-Insecure-Requests: 1\\r\\nUser-Agent: Mozilla/5.0 (Wi', b'ows NT 10.0; Win64; x64) AppleWebKit/537.36 (KHTML, like Gecko) Chrome/138.0.0.0 Safari/537.36\\r\\nAccept: text/']\n",
      "Bad pipe message: %s [b'ml,application/xhtml+xml,application/xml;q=0.9,image/avif,image/webp,image/apng,*/*;q=0.8,application/s']\n",
      "Bad pipe message: %s [b'ned-exchange;v=b3;q=0.7\\r\\nSec-Fetch-Site: none\\r\\nSec-Fetch-Mode: navigate\\r\\nSec-Fetch-User: ?1\\r\\nSec-Fetch-D', b't: document\\r\\nAccept-Encoding: gzip, deflate, br, zstd\\r\\nAccept-Language: ar-MA,ar-AE;q=0.9,ar;q=0.8,f', b'MA;q=0.7,fr;q=0.6,en-US;q=0.5,en;q=0.4\\r\\nCookie: username-127-0-0-1-8889=\"2|1:0|10:1751555102|23:username-127-0-0-', b'8889|44:ODA3NzI2MmQxM2ZkNDYyMzg0MWJjMjg3MTZkNzYx', b'M=|271d9a77b88fe318d596adc3e1f3e8b0289514f10a4e01c19f326803e2154b6a\"; _xsrf=', b'84abd5f4|ea459fe91f4ad28391c1775406bdb27c|1751617']\n",
      "Bad pipe message: %s [b'7; ajs_anonymous_id=777b8882-a08b-4d2c-b061-d3e8', b'02efbb; username-127-0-0-1-8888=\"2|1:0|10:1752497667|23:username-127-0-0-1-8888|200:eyJ1c2VybmFtZSI6I']\n",
      "Bad pipe message: %s [b'mNDNiMWNkNWI4N2E0YzU3YTM3OGE2YjhhNmI0NjEyYSIsICJuYW1lIjogIkFub255b']\n",
      "Bad pipe message: %s [b'ol: max-age=0\\r\\nsec-ch-ua: \"Not)A;Brand\";v=\"8\", \"Chromium\";v=\"138\", \"Google Chrome\";v=\"138\"\\r\\nsec-ch-ua-mobile: ?0\\r\\ns']\n",
      "Bad pipe message: %s [b'-ch-ua-platform: \"Windows\"\\r\\nUpgrade-Insecure-Requests: 1\\r\\nUser-Agent: Mozilla/5.0 (Windows NT 10.0; ', b'n64; x64) AppleWebKit/537.36 (KHTML, like Gecko) Chrome/138.0.0.0 Safari/537.36\\r\\nAccep', b' text/html,application/xhtml+xml,application/xml;q=0.9,image/avif,image/webp,image/apng,*/*;q=0.8,application/signe']\n",
      "Bad pipe message: %s [b'exchange;v=b3;q=0.7\\r\\nSec-Fetch-Site: none\\r\\nSec-Fetch-Mode: navigate\\r\\nSec-Fetch-User: ?1\\r\\nSec-Fetch-', b'st: document\\r\\nAccept-Encoding: gzip, deflate, br, zstd\\r\\nAccept-Lang', b'ge: ar-MA,ar-AE;q=0.9,ar;q=0.8,fr-MA;q=0.7,fr;q=0.6,en-US;q=0.5,en;q=0.4\\r\\nCookie: username-127-0-0-1-8889=\"2|1:0|10:', b'51555102|23:username-127-0-0-1-8889|44:ODA3NzI2M', b'xM2ZkNDYyMzg0MWJjMjg3MTZkNzYxMWM=|271d9a77b88fe318d596adc3e1f3e8b0289514f10a4e01c19f326803e2154b6a\"; _xsrf=2', b'4abd5f4|ea459fe91f4ad28391c1775406bdb27c|1751617197; ajs_anonymous_id=777b8882-a08b-4d2c-b061-d3e8f802efbb; username-127-0-']\n",
      "Bad pipe message: %s [b'1-8888=\"2|1:0|10:1752497667|23:username-127-0-0', b'-8888|200:eyJ1c2VybmFtZSI6ICJmNDNiMWNkNWI4N2', b'YzU3YTM3OGE2YjhhNmI0NjEyYSIsICJuYW1lIjogIkFub255bW91cyBPcnRob3NpZSIs']\n"
     ]
    }
   ],
   "source": [
    "mlflow.set_tracking_uri('sqlite:///mlflow.db')\n",
    "mlflow.set_experiment('my-nyc-taxi-experiment')"
   ]
  },
  {
   "cell_type": "code",
   "execution_count": 7,
   "id": "835072d5",
   "metadata": {},
   "outputs": [],
   "source": [
    "def read_dataframe(filename):\n",
    "    df = pd.read_parquet(filename)\n",
    "\n",
    "    df['duration'] = df.lpep_dropoff_datetime - df.lpep_pickup_datetime\n",
    "    df.duration = df.duration.apply(lambda td: td.total_seconds()/60)\n",
    "\n",
    "    df = df[(df.duration >= 1)&(df.duration <= 60)]\n",
    "\n",
    "    categorical = ['PULocationID', 'DOLocationID']\n",
    "    df[categorical] = df[categorical].astype(str)\n",
    "\n",
    "    df['PU_DO'] = df['PULocationID'] + '_' + df['DOLocationID']\n",
    "\n",
    "    return df"
   ]
  },
  {
   "cell_type": "code",
   "execution_count": 8,
   "id": "99037e0f",
   "metadata": {},
   "outputs": [],
   "source": [
    "df_train = read_dataframe('https://d37ci6vzurychx.cloudfront.net/trip-data/green_tripdata_2023-01.parquet')\n",
    "df_val = read_dataframe('https://d37ci6vzurychx.cloudfront.net/trip-data/green_tripdata_2023-02.parquet')"
   ]
  },
  {
   "cell_type": "code",
   "execution_count": 9,
   "id": "7cf13db2",
   "metadata": {},
   "outputs": [],
   "source": [
    "categorical = ['PU_DO']\n",
    "numerical = ['trip_distance']\n",
    "\n",
    "dv = DictVectorizer()\n",
    "\n",
    "train_dicts = df_train[categorical + numerical].to_dict(orient = 'records')\n",
    "X_train = dv.fit_transform(train_dicts)\n",
    "\n",
    "val_dicts = df_val[categorical + numerical].to_dict(orient = 'records')\n",
    "X_val = dv.transform(val_dicts)"
   ]
  },
  {
   "cell_type": "code",
   "execution_count": 10,
   "id": "ecbcb808",
   "metadata": {},
   "outputs": [],
   "source": [
    "target = 'duration'\n",
    "y_train = df_train[target].values\n",
    "y_val = df_val[target].values"
   ]
  },
  {
   "cell_type": "code",
   "execution_count": 13,
   "id": "348ad1e8",
   "metadata": {},
   "outputs": [],
   "source": [
    "import xgboost as xgb"
   ]
  },
  {
   "cell_type": "code",
   "execution_count": 15,
   "metadata": {},
   "outputs": [],
   "source": [
    "from pathlib import Path"
   ]
  },
  {
   "cell_type": "code",
   "execution_count": 16,
   "id": "7210ad53",
   "metadata": {},
   "outputs": [],
   "source": [
    "models_folder = Path('models')\n",
    "models_folder.mkdir(exist_ok= True)"
   ]
  },
  {
   "cell_type": "code",
   "execution_count": null,
   "id": "ceec596c",
   "metadata": {},
   "outputs": [
    {
     "name": "stderr",
     "output_type": "stream",
     "text": [
      "/workspaces/mlops-zoomcamp/.conda/lib/python3.12/site-packages/xgboost/callback.py:386: UserWarning: [11:54:37] WARNING: /workspace/src/learner.cc:738: \n",
      "Parameters: { \"pbjective\" } are not used.\n",
      "\n",
      "  self.starting_round = model.num_boosted_rounds()\n"
     ]
    },
    {
     "name": "stdout",
     "output_type": "stream",
     "text": [
      "[0]\tvalidation-rmse:8.73788\n",
      "[1]\tvalidation-rmse:8.22960\n",
      "[2]\tvalidation-rmse:7.78914\n",
      "[3]\tvalidation-rmse:7.40823\n",
      "[4]\tvalidation-rmse:7.08398\n",
      "[5]\tvalidation-rmse:6.80130\n",
      "[6]\tvalidation-rmse:6.56559\n",
      "[7]\tvalidation-rmse:6.35942\n",
      "[8]\tvalidation-rmse:6.18716\n",
      "[9]\tvalidation-rmse:6.04364\n",
      "[10]\tvalidation-rmse:5.91994\n",
      "[11]\tvalidation-rmse:5.81441\n",
      "[12]\tvalidation-rmse:5.72701\n",
      "[13]\tvalidation-rmse:5.65236\n",
      "[14]\tvalidation-rmse:5.58821\n",
      "[15]\tvalidation-rmse:5.53629\n",
      "[16]\tvalidation-rmse:5.49451\n",
      "[17]\tvalidation-rmse:5.45443\n",
      "[18]\tvalidation-rmse:5.42147\n",
      "[19]\tvalidation-rmse:5.39347\n",
      "[20]\tvalidation-rmse:5.37267\n",
      "[21]\tvalidation-rmse:5.35128\n",
      "[22]\tvalidation-rmse:5.33257\n",
      "[23]\tvalidation-rmse:5.31780\n",
      "[24]\tvalidation-rmse:5.30449\n",
      "[25]\tvalidation-rmse:5.29542\n",
      "[26]\tvalidation-rmse:5.28365\n",
      "[27]\tvalidation-rmse:5.27505\n",
      "[28]\tvalidation-rmse:5.26725\n",
      "[29]\tvalidation-rmse:5.26004\n"
     ]
    },
    {
     "name": "stderr",
     "output_type": "stream",
     "text": [
      "/workspaces/mlops-zoomcamp/.conda/lib/python3.12/site-packages/mlflow/xgboost/__init__.py:168: UserWarning: [11:54:58] WARNING: /workspace/src/c_api/c_api.cc:1427: Saving model in the UBJSON format as default.  You can use file extension: `json`, `ubj` or `deprecated` to choose between formats.\n",
      "  xgb_model.save_model(model_data_path)\n",
      "\u001b[31m2025/07/17 11:55:06 WARNING mlflow.models.model: Model logged without a signature and input example. Please set `input_example` parameter when logging the model to auto infer the model signature.\u001b[0m\n"
     ]
    }
   ],
   "source": [
    "import mlflow.xgboost\n",
    "\n",
    "\n",
    "with mlflow.start_run():\n",
    "    train = xgb.DMatrix(X_train, label = y_train)\n",
    "    valid = xgb.DMatrix(X_val, label = y_val)\n",
    "\n",
    "    best_params = {\n",
    "        'learning_rate': 0.09585355369315604,\n",
    "        'max_depth': 30,\n",
    "        'min_child_weight': 1.060597050922164,\n",
    "        'pbjective' : 'reg:linear',\n",
    "        'reg_alpha': 0.018060244040060163,\n",
    "        'reg_lambda': 0.011658731377413597,\n",
    "        'seed': 42\n",
    "    }\n",
    "    mlflow.log_params(best_params)\n",
    "\n",
    "    booster = xgb.train(\n",
    "        params = best_params,\n",
    "        dtrain = train,\n",
    "        num_boost_round = 30,\n",
    "        evals = [(valid, 'validation')],\n",
    "        early_stopping_rounds = 50\n",
    "    )\n",
    "    y_pred = booster.predict(valid)\n",
    "    rmse = root_mean_squared_error(y_val, y_pred)\n",
    "    mlflow.log_metric('rmse', rmse)\n",
    "    \n",
    "\n",
    "    with open(\"models/preprocessor.b\", \"wb\") as f_out:\n",
    "        pickle.dump(dv,f_out)\n",
    "    mlflow.log_artifact('models/preprocessor.b', artifact_path='preprocessor')\n",
    "\n",
    "    mlflow.xgboost.log_model(booster, name = 'models_mlflow')\n"
   ]
  },
  {
   "cell_type": "code",
   "execution_count": 21,
   "id": "9cb28eeb",
   "metadata": {},
   "outputs": [
    {
     "data": {
      "text/plain": [
       "array([[0.  , 0.  , 0.  , ..., 0.  , 0.  , 2.58]], shape=(1, 5702))"
      ]
     },
     "execution_count": 21,
     "metadata": {},
     "output_type": "execute_result"
    }
   ],
   "source": [
    "import numpy as np  \n",
    "np.array([X_train[0].toarray()[0]])\n"
   ]
  }
 ],
 "metadata": {
  "kernelspec": {
   "display_name": "Python 3",
   "language": "python",
   "name": "python3"
  },
  "language_info": {
   "codemirror_mode": {
    "name": "ipython",
    "version": 3
   },
   "file_extension": ".py",
   "mimetype": "text/x-python",
   "name": "python",
   "nbconvert_exporter": "python",
   "pygments_lexer": "ipython3",
   "version": "3.12.11"
  }
 },
 "nbformat": 4,
 "nbformat_minor": 5
}
